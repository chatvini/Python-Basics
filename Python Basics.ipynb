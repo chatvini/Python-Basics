{
 "cells": [
  {
   "cell_type": "code",
   "execution_count": 6,
   "id": "68828cd7",
   "metadata": {},
   "outputs": [
    {
     "name": "stdout",
     "output_type": "stream",
     "text": [
      "2500\n",
      "<class 'int'>\n",
      "python\n"
     ]
    }
   ],
   "source": [
    "income=2500\n",
    "print(income)\n",
    "print(type(income))\n",
    "\n",
    "name = 'python'\n",
    "print(name)"
   ]
  },
  {
   "cell_type": "code",
   "execution_count": 4,
   "id": "e0d07096",
   "metadata": {},
   "outputs": [
    {
     "name": "stdout",
     "output_type": "stream",
     "text": [
      "<class 'bool'>\n"
     ]
    }
   ],
   "source": [
    "integer = True\n",
    "print(type(integer))"
   ]
  },
  {
   "cell_type": "code",
   "execution_count": 23,
   "id": "73b80da0",
   "metadata": {
    "scrolled": true
   },
   "outputs": [
    {
     "name": "stdout",
     "output_type": "stream",
     "text": [
      "<class 'str'>\n",
      "Data\n",
      "Science\n",
      "<class 'float'>\n"
     ]
    },
    {
     "data": {
      "text/plain": [
       "'datascience'"
      ]
     },
     "execution_count": 23,
     "metadata": {},
     "output_type": "execute_result"
    }
   ],
   "source": [
    "course= 'DataScience'\n",
    "print(type(course))\n",
    "\n",
    "course1= 'Data\\nScience'\n",
    "print(course1)\n",
    "\n",
    "salary= 25000.00\n",
    "print(type(salary))\n",
    "\n",
    "'data'+'science'\n"
   ]
  },
  {
   "cell_type": "code",
   "execution_count": 18,
   "id": "68521368",
   "metadata": {},
   "outputs": [
    {
     "name": "stdout",
     "output_type": "stream",
     "text": [
      "4\n",
      "111\n",
      "22111\n"
     ]
    }
   ],
   "source": [
    "sample1 = 1+3\n",
    "print(sample1)\n",
    "\n",
    "sample = \"1\"*3\n",
    "print(sample)\n",
    "\n",
    "sample2 = \"2\"*2 + \"1\"*3\n",
    "print(sample2)"
   ]
  },
  {
   "cell_type": "code",
   "execution_count": 1,
   "id": "2c69d9a7",
   "metadata": {},
   "outputs": [
    {
     "name": "stdout",
     "output_type": "stream",
     "text": [
      "15000\n",
      "5000 25000\n",
      "<class 'int'>\n",
      "My income was 20000 and now it is 25000\n"
     ]
    }
   ],
   "source": [
    "income1= 5000\n",
    "income2= 10000\n",
    "income3= 15000\n",
    "income4= 20000\n",
    "income5= 25000\n",
    "\n",
    "print(income1+income2)\n",
    "\n",
    "print(income1,income5)\n",
    "\n",
    "print(type(income5))\n",
    "\n",
    "print(\"My income was \"+str(income4)+\" and now it is \"+str(income5))"
   ]
  },
  {
   "cell_type": "code",
   "execution_count": 11,
   "id": "a8c56381",
   "metadata": {},
   "outputs": [
    {
     "name": "stdout",
     "output_type": "stream",
     "text": [
      "['Tejas', 5000, 'Chesta', 10000, 'Ankur', 15000, 'Vini', 20000]\n",
      "<class 'list'>\n"
     ]
    }
   ],
   "source": [
    "Names=['Tejas', income1, 'Chesta', income2, 'Ankur', income3, 'Vini', income4]\n",
    "print(Names)\n",
    "print(type(Names))"
   ]
  },
  {
   "cell_type": "code",
   "execution_count": 3,
   "id": "f6db7215",
   "metadata": {},
   "outputs": [
    {
     "name": "stdout",
     "output_type": "stream",
     "text": [
      "[['Tejas', 5000], ['Chesta', 10000], ['Ankur', 15000], ['Vini', 20000], ['Kia', 25000]]\n",
      "<class 'list'>\n"
     ]
    },
    {
     "data": {
      "text/plain": [
       "['Vini', 20000]"
      ]
     },
     "execution_count": 3,
     "metadata": {},
     "output_type": "execute_result"
    }
   ],
   "source": [
    "Names2=[['Tejas', income1], \n",
    "        ['Chesta', income2],\n",
    "        ['Ankur', income3],\n",
    "        ['Vini', income4],\n",
    "       ['Kia',income5]]\n",
    "print(Names2)\n",
    "print(type(Names2))\n",
    "\n",
    "Names2[3][:]"
   ]
  },
  {
   "cell_type": "code",
   "execution_count": 7,
   "id": "70c43558",
   "metadata": {},
   "outputs": [
    {
     "name": "stdout",
     "output_type": "stream",
     "text": [
      "(['Tejas', 5000], ['Chesta', 10000], ['Ankur', 15000], ['Vini', 20000])\n",
      "<class 'tuple'>\n"
     ]
    }
   ],
   "source": [
    "Names3=(['Tejas', income1], \n",
    "        ['Chesta', income2],\n",
    "        ['Ankur', income3],\n",
    "        ['Vini', income4])\n",
    "print(Names3)\n",
    "print(type(Names3))"
   ]
  },
  {
   "cell_type": "code",
   "execution_count": 40,
   "id": "04ccb80d",
   "metadata": {},
   "outputs": [
    {
     "data": {
      "text/plain": [
       "['Vini', 20000]"
      ]
     },
     "execution_count": 40,
     "metadata": {},
     "output_type": "execute_result"
    }
   ],
   "source": [
    "Names2 [3]"
   ]
  },
  {
   "cell_type": "code",
   "execution_count": 48,
   "id": "557ced8f",
   "metadata": {},
   "outputs": [
    {
     "name": "stdout",
     "output_type": "stream",
     "text": [
      "[['Chesta', 10000], ['Ankur', 15000]]\n",
      "[['Tejas', 5000], ['Chesta', 10000], ['Ankur', 15000], ['Vini', 20000], ['Kia', 25000]]\n",
      "[['Ankur', 15000], ['Vini', 20000], ['Kia', 25000]]\n",
      "[['Tejas', 5000], ['Chesta', 10000], ['Ankur', 15000]]\n",
      "[['Tejas', 5000], ['Chesta', 10000], ['Ankur', 15000], ['Vini', 20000], ['Kia', 25000]]\n"
     ]
    }
   ],
   "source": [
    "#slicing usage\n",
    "#[start:End]\n",
    "#start is inclusive and end is exclusive(:)\n",
    "print(Names2[1:3])\n",
    "print(Names2[:])\n",
    "print(Names2[2:])\n",
    "print(Names2[:3])\n",
    "print(Names2[:5])"
   ]
  },
  {
   "cell_type": "code",
   "execution_count": 4,
   "id": "a4991a96",
   "metadata": {},
   "outputs": [
    {
     "name": "stdout",
     "output_type": "stream",
     "text": [
      "15000\n",
      "35000\n"
     ]
    }
   ],
   "source": [
    "Income0=['Tejas', 5000, 'Chesta', 10000, 'Ankur', 15000, 'Vini', 20000]\n",
    "Income0\n",
    "\n",
    "z=Income0[1]+Income0[3]\n",
    "print(z)\n",
    "\n",
    "#negative indexing -1= last value, -2= second last\n",
    "y=Income0[-1]+Income0[-3]\n",
    "print(y)"
   ]
  },
  {
   "cell_type": "code",
   "execution_count": 28,
   "id": "052634d8",
   "metadata": {},
   "outputs": [
    {
     "data": {
      "text/plain": [
       "['Guruji', 60000, 'Chesta', 10000, 'Ankur', 15000, 'Kia', 70000]"
      ]
     },
     "execution_count": 28,
     "metadata": {},
     "output_type": "execute_result"
    }
   ],
   "source": [
    "#List Manipulation\n",
    "\n",
    "Names[1] =55000 #change\n",
    "Names\n",
    "\n",
    "Names[0:2]=['Guruji',60000] #replacing elements\n",
    "Names\n",
    "\n",
    "Names01= Names + ['Kia',70000] #adding elements\n",
    "Names01\n",
    "\n",
    "del(Names01[6:8])\n",
    "Names01"
   ]
  },
  {
   "cell_type": "code",
   "execution_count": 11,
   "id": "217a7da5",
   "metadata": {},
   "outputs": [
    {
     "name": "stdout",
     "output_type": "stream",
     "text": [
      "<map object at 0x7f7ae95648e0>\n",
      "<filter object at 0x7f7ae9564f40>\n",
      "[16.528925619834713, 19.031141868512112]\n"
     ]
    }
   ],
   "source": [
    "#Lambdas, Map\n",
    "mass=[45,55,65,76]\n",
    "ht=[1.65,1.70,1.55,1.80]\n",
    "bmi=map(lambda x,y:x/y**2,mass,ht)\n",
    "bmi_f=filter(lambda x:x<20,bmi)\n",
    "print(bmi)\n",
    "print(bmi_f)\n",
    "#print(list(bmi))\n",
    "print(list(bmi_f))"
   ]
  },
  {
   "cell_type": "code",
   "execution_count": 15,
   "id": "6048458a",
   "metadata": {},
   "outputs": [
    {
     "name": "stdout",
     "output_type": "stream",
     "text": [
      "YayYayYay\n"
     ]
    }
   ],
   "source": [
    "#define w1 as a lambda function\n",
    "w1 = (lambda x,y: x*y)\n",
    "\n",
    "#call w1:result\n",
    "result = w1('Yay',3)\n",
    "\n",
    "#print result\n",
    "print(result)"
   ]
  },
  {
   "cell_type": "code",
   "execution_count": 20,
   "id": "bc036d44",
   "metadata": {},
   "outputs": [
    {
     "name": "stdout",
     "output_type": "stream",
     "text": [
      "[4, 16, 36, 64, 100]\n"
     ]
    }
   ],
   "source": [
    "nums= [2,4,6,8,10]\n",
    "result= map(lambda a:a**2,nums)\n",
    "print(list(result))"
   ]
  },
  {
   "cell_type": "code",
   "execution_count": 25,
   "id": "637817ac",
   "metadata": {},
   "outputs": [
    {
     "name": "stdout",
     "output_type": "stream",
     "text": [
      "['chennai', 'kolkata']\n"
     ]
    }
   ],
   "source": [
    "#filter\n",
    "\n",
    "cities=['delhi','pune','chennai','kolkata']\n",
    "\n",
    "#use filter() to apply a lambda func over fellowship: result\n",
    "result= filter(lambda m: len(m)>6, cities)\n",
    "\n",
    "type(result)\n",
    "\n",
    "#convert result to list: result_list\n",
    "result_list = list(result)\n",
    "print(result_list)"
   ]
  },
  {
   "cell_type": "code",
   "execution_count": 27,
   "id": "07928e58",
   "metadata": {},
   "outputs": [
    {
     "name": "stdout",
     "output_type": "stream",
     "text": [
      "(1, 2, 3, 4)\n",
      "1\n"
     ]
    }
   ],
   "source": [
    "#tuples\n",
    "#heterogenous elements\n",
    "#enclosed in a round parenthesis ()\n",
    "#elements can be accessed by indexing or unpacking\n",
    "\n",
    "t=(1,2,3,4)\n",
    "print(t)\n",
    "print(t[0])\n"
   ]
  },
  {
   "cell_type": "code",
   "execution_count": 29,
   "id": "1b1e8547",
   "metadata": {},
   "outputs": [
    {
     "name": "stdout",
     "output_type": "stream",
     "text": [
      "[0, 2, 3, 4]\n"
     ]
    }
   ],
   "source": [
    "#difference between list and tuple\n",
    "#values can be changed in list but not tuple\n",
    "\n",
    "li6=[1,2,3,4]\n",
    "li6[0]=0\n",
    "print(li6)"
   ]
  },
  {
   "cell_type": "code",
   "execution_count": 31,
   "id": "df9df448",
   "metadata": {},
   "outputs": [
    {
     "ename": "TypeError",
     "evalue": "'tuple' object does not support item assignment",
     "output_type": "error",
     "traceback": [
      "\u001b[0;31m---------------------------------------------------------------------------\u001b[0m",
      "\u001b[0;31mTypeError\u001b[0m                                 Traceback (most recent call last)",
      "Input \u001b[0;32mIn [31]\u001b[0m, in \u001b[0;36m<cell line: 1>\u001b[0;34m()\u001b[0m\n\u001b[0;32m----> 1\u001b[0m t[\u001b[38;5;241m0\u001b[39m]\u001b[38;5;241m=\u001b[39m\u001b[38;5;241m0\u001b[39m\n",
      "\u001b[0;31mTypeError\u001b[0m: 'tuple' object does not support item assignment"
     ]
    }
   ],
   "source": [
    "t[0]=0"
   ]
  },
  {
   "cell_type": "code",
   "execution_count": 34,
   "id": "525ecb64",
   "metadata": {},
   "outputs": [
    {
     "name": "stdout",
     "output_type": "stream",
     "text": [
      "['__add__', '__class__', '__class_getitem__', '__contains__', '__delattr__', '__dir__', '__doc__', '__eq__', '__format__', '__ge__', '__getattribute__', '__getitem__', '__getnewargs__', '__gt__', '__hash__', '__init__', '__init_subclass__', '__iter__', '__le__', '__len__', '__lt__', '__mul__', '__ne__', '__new__', '__reduce__', '__reduce_ex__', '__repr__', '__rmul__', '__setattr__', '__sizeof__', '__str__', '__subclasshook__', 'count', 'index']\n"
     ]
    }
   ],
   "source": [
    "#to find which functions can be used on the object use dir\n",
    "print(dir(t))"
   ]
  },
  {
   "cell_type": "code",
   "execution_count": 43,
   "id": "00f81957",
   "metadata": {},
   "outputs": [
    {
     "name": "stdout",
     "output_type": "stream",
     "text": [
      "{'umesh': 30000, 'ramesh': 40000, 'nilesh': 25000}\n",
      "30000\n",
      "dict_keys(['umesh', 'ramesh', 'nilesh'])\n",
      "dict_values([30000, 40000, 25000])\n",
      "{'umesh': 30000, 'ramesh': 40000, 'nilesh': 35000}\n",
      "{'umesh': 30000, 'ramesh': 40000}\n",
      "dict_items([('umesh', 30000), ('ramesh', 40000)])\n"
     ]
    }
   ],
   "source": [
    "#dictionaries\n",
    "#key value pairs; keys immutable; values mutable\n",
    "#using {} brackets\n",
    "#can be indexed using unique keys not range of numbers as in lists\n",
    "\n",
    "inc = {\"umesh\":30000,\"ramesh\":40000,\"nilesh\":25000}\n",
    "print(inc)\n",
    "\n",
    "#dict_name[key]\n",
    "\n",
    "print(inc[\"umesh\"])\n",
    "\n",
    "#print unique keys in inc\n",
    "\n",
    "print(inc.keys())\n",
    "print(inc.values())\n",
    "\n",
    "#check if value is present in dictionary\n",
    "\"nilesh\" in inc\n",
    "\n",
    "#modify key\n",
    "inc[\"nilesh\"] = 35000\n",
    "print(inc)\n",
    "\n",
    "#del key-value\n",
    "del(inc[\"nilesh\"])\n",
    "print(inc)\n",
    "\n",
    "#access key-value pairs\n",
    "print(inc.items())\n"
   ]
  },
  {
   "cell_type": "code",
   "execution_count": 50,
   "id": "7ff291f9",
   "metadata": {},
   "outputs": [
    {
     "name": "stdout",
     "output_type": "stream",
     "text": [
      "40000\n",
      "{'r': {'gender': 'male', 'income': 40000}, 's': {'gender': 'female', 'income': 66000}, 't': {'gender': 'female', 'income': 20000}, 'u': {'gender': 'male', 'income': 58000}, 'v': {'gender': 'female', 'income': 30000}}\n"
     ]
    }
   ],
   "source": [
    "#dictionary of dictionaries\n",
    "income1= {'r' : {'gender':'male','income':40000},\n",
    "'s':{'gender':'female','income':66000},\n",
    "   't':{'gender':'female','income':20000},\n",
    "    'u':{'gender':'male','income':58000}}\n",
    "\n",
    "#print out the income of r\n",
    "print(income1['r']['income'])\n",
    "\n",
    "#create sub-directory data\n",
    "income2 = {'gender':'female', 'income':30000}\n",
    "\n",
    "#add data to income1 under key 'v'\n",
    "income1['v']= income2\n",
    "\n",
    "#print\n",
    "print(income1)"
   ]
  },
  {
   "cell_type": "code",
   "execution_count": 61,
   "id": "e92b420f",
   "metadata": {},
   "outputs": [
    {
     "name": "stdout",
     "output_type": "stream",
     "text": [
      "umesh\n",
      "ramesh\n",
      "umesh 30000\n",
      "ramesh 40000\n"
     ]
    }
   ],
   "source": [
    "#dictionary is iterable\n",
    "for x in inc:\n",
    "    print(x)\n",
    "    \n",
    "for x in inc:\n",
    "    print(x,inc[x])"
   ]
  },
  {
   "cell_type": "code",
   "execution_count": 29,
   "id": "664122f6",
   "metadata": {},
   "outputs": [
    {
     "name": "stdout",
     "output_type": "stream",
     "text": [
      "{0: 0, 1: -1, 2: -2}\n"
     ]
    },
    {
     "data": {
      "text/plain": [
       "dict"
      ]
     },
     "execution_count": 29,
     "metadata": {},
     "output_type": "execute_result"
    }
   ],
   "source": [
    "#list comprehension on dictionaries\n",
    "\n",
    "pos_neg = {l:-l for l in range(3)}\n",
    "print(pos_neg)\n",
    "type(pos_neg)\n",
    "\n",
    "\n",
    "# assign_txt=\"Modi is an exceptional leaders of all time in India . He is the prime minister of India\"\n",
    "# d={}\n",
    "# for w in assign_txt.split(\" \"):\n",
    "#     if w in d:\n",
    "#         d[w]=d[w]+1\n",
    "#     else:\n",
    "#         d[w]=1\n",
    "        \n",
    "# print(d)"
   ]
  },
  {
   "cell_type": "code",
   "execution_count": 16,
   "id": "fb984dc7",
   "metadata": {},
   "outputs": [],
   "source": [
    "\n",
    "#modules interlude\n",
    "import os\n",
    "os.chdir('/Users/macmojave/Downloads')"
   ]
  },
  {
   "cell_type": "code",
   "execution_count": 19,
   "id": "ac3a824d",
   "metadata": {},
   "outputs": [
    {
     "name": "stdout",
     "output_type": "stream",
     "text": [
      "<class '_io.TextIOWrapper'>\n",
      "<class 'str'>\n"
     ]
    }
   ],
   "source": [
    "\n",
    "\n",
    "f=open('sample3.txt','r') \n",
    "fo=f.read() #converts to str\n",
    "print(type(f))\n",
    "print(type(fo))\n",
    "f.close() #fopen need fclose"
   ]
  },
  {
   "cell_type": "code",
   "execution_count": 21,
   "id": "70a6a4b3",
   "metadata": {},
   "outputs": [],
   "source": [
    "f=open('sample3.txt','w')\n",
    "for dt in fo:\n",
    "    f.write(dt+'\\n')\n",
    "f.close()"
   ]
  },
  {
   "cell_type": "code",
   "execution_count": 23,
   "id": "948fa5f2",
   "metadata": {},
   "outputs": [
    {
     "data": {
      "text/plain": [
       "'Quod equidem non reprehendo;\\nLorem ipsum dolor sit amet, consectetur adipiscing elit. Quibus natura '"
      ]
     },
     "execution_count": 23,
     "metadata": {},
     "output_type": "execute_result"
    }
   ],
   "source": [
    "fo[0:100]"
   ]
  },
  {
   "cell_type": "code",
   "execution_count": 26,
   "id": "e326f119",
   "metadata": {},
   "outputs": [],
   "source": [
    "with open(\"sample3.txt\",\"r\") as infile:\n",
    "    dat=infile.read()\n",
    "    \n",
    "    #use with open to avoid fclose\n",
    "    #with is called context manager"
   ]
  }
 ],
 "metadata": {
  "kernelspec": {
   "display_name": "Python 3 (ipykernel)",
   "language": "python",
   "name": "python3"
  },
  "language_info": {
   "codemirror_mode": {
    "name": "ipython",
    "version": 3
   },
   "file_extension": ".py",
   "mimetype": "text/x-python",
   "name": "python",
   "nbconvert_exporter": "python",
   "pygments_lexer": "ipython3",
   "version": "3.9.13"
  }
 },
 "nbformat": 4,
 "nbformat_minor": 5
}
